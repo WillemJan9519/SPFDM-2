{
 "cells": [
  {
   "cell_type": "code",
   "execution_count": 1,
   "metadata": {},
   "outputs": [],
   "source": [
    "# SPFDM Assignment 2\n",
    "# Luuk Oudshoorn and Willem-Jan de Voogd\n",
    "# Fall 2020"
   ]
  },
  {
   "cell_type": "code",
   "execution_count": 2,
   "metadata": {},
   "outputs": [],
   "source": [
    "import time\n",
    "import numpy as np\n",
    "import pandas as pd\n",
    "import datetime as dt\n",
    "from glob import glob\n",
    "from scipy.interpolate import interp1d\n",
    "\n",
    "# Import some of the basis required functions\n",
    "from scipy.interpolate import Rbf, InterpolatedUnivariateSpline\n",
    "from scipy import interpolate\n",
    "from scipy.stats import norm\n",
    "from joblib import Parallel, delayed\n",
    "import networkx as nx\n",
    "from scipy.stats import norm\n",
    "import scipy as sp\n",
    "import matplotlib.pyplot as plt\n",
    "import ffn \n",
    "from matplotlib import collections as matcoll\n",
    "%matplotlib inline"
   ]
  },
  {
   "cell_type": "markdown",
   "metadata": {},
   "source": [
    "Exercise 10 (Stochastic  volatility).\n",
    "Simulate the paths to maturity T= 1 year. Use the SABR model.\n",
    "1.  Plot a single path and look if you can observe a volatility clustering.\n",
    "2.  Plot  histograms  of  log-returns  and  compare  them  to  the  normal  \n",
    "distribution with the same mean and variance.  Observe the skewness and fattails."
   ]
  },
  {
   "cell_type": "code",
   "execution_count": 55,
   "metadata": {},
   "outputs": [
    {
     "name": "stdout",
     "output_type": "stream",
     "text": [
      "0\n"
     ]
    },
    {
     "data": {
      "image/png": "[encoded data removed]",
      "text/plain": [
       "<Figure size 432x288 with 1 Axes>"
      ]
     },
     "metadata": {
      "needs_background": "light"
     },
     "output_type": "display_data"
    },
    {
     "data": {
      "text/plain": [
       "202.06892555234518"
      ]
     },
     "execution_count": 55,
     "metadata": {},
     "output_type": "execute_result"
    }
   ],
   "source": [
    "class MonteCarlo():\n",
    "    def __init__(self,Npaths, Nsteps, T, F, sigma, alpha, beta, rho, K = 3300, rf=None):\n",
    "        \"\"\"Function initialization like in the binomial tree model. \n",
    "           Predominantly fixed values\"\"\"\n",
    "        \"\"\"F is the initial forward rate, sigma the initial stochastic volatility.\"\"\"\n",
    "        # If we do not call the function with a value, \n",
    "        # initialize at the \"standard\" numbers\n",
    "        if rf == 0:\n",
    "            self.rf = rf\n",
    "        elif not rf:\n",
    "            self.rf = np.log((1+0.005/4)**4)\n",
    "        else:\n",
    "            self.rf = rf\n",
    "        self.S0 = F*np.exp(-self.rf*T)\n",
    "        self.F0 = F\n",
    "        self.sigma0 = sigma\n",
    "        self.alpha = alpha\n",
    "        self.beta = beta\n",
    "        self.rho = rho\n",
    "        self.K     = K\n",
    "        self.Npaths = Npaths\n",
    "        self.Nsteps = Nsteps\n",
    "        self.T = T\n",
    "        self.dT = T/Nsteps\n",
    "        print(self.rf)\n",
    "        \n",
    "    def propagate(self,ft_1,st_1):\n",
    "        \"\"\"Equate the monte carlo iteration as function of location xt\"\"\"\n",
    "        \"\"\"ft and st are, respectively, the forward rate and the stochastic volatility at time t\"\"\"\n",
    "        N = 1 if type(ft_1)==np.float64 else len(ft_1)\n",
    "        phi1 = np.random.randn(N)\n",
    "        phi2 = np.random.randn(N)\n",
    "        st = st_1 + self.alpha*st_1*self.dT*phi1 \n",
    "        ft = ft_1 + st*ft_1**self.beta*self.rho*self.dT*phi2\n",
    "        return ft, st\n",
    "\n",
    "    def simulate(self):\n",
    "        \"\"\"Iterate through the MC process for N steps and 1 path\"\"\"\n",
    "        \"\"\"ft and st are, respectively, the forward rate and the stochastic volatility at time t\"\"\"\n",
    "        ft = np.zeros(self.Nsteps)\n",
    "        st = np.zeros(self.Nsteps)\n",
    "        prices = np.zeros(self.Nsteps)\n",
    "        # Initialize at start value\n",
    "        ft[0] = self.F0\n",
    "        st[0] = self.sigma0\n",
    "        prices[0] = self.S0\n",
    "        for i in range(self.Nsteps-1):\n",
    "            # propagate prices\n",
    "            ft[i+1], st[i+1] = self.propagate(ft[i], st[i])\n",
    "            prices[i+1] = ft[i+1]*np.exp(-self.rf*(self.T - (i+1)*self.dT))\n",
    "        return prices\n",
    "        \n",
    "    def plot_single(self, filename=None):\n",
    "        \"\"\"Plot a single realization\"\"\"\n",
    "        prices = self.simulate()\n",
    "        timearr = np.arange(0,self.T,self.dT)\n",
    "        plt.plot(timearr,prices,color='black',lw=0.5)\n",
    "        # plot horitontal line at long term mean\n",
    "#         plt.axhline(self.ltm,ls='--',color='black',lw=1)\n",
    "        plt.xlabel('Time [yr]')\n",
    "        plt.ylabel('Stock price [USD]')\n",
    "        plt.tight_layout()\n",
    "        if filename:\n",
    "            plt.savefig(filename)\n",
    "        plt.show()\n",
    "        \n",
    "    def simulate_many(self):\n",
    "        \"\"\"Simulate Npaths for Nsteps\"\"\"\n",
    "        \"\"\"ft and st are, respectively, the forward rate and the stochastic volatility at time t\"\"\"\n",
    "        ft = np.zeros((self.Npaths, self.Nsteps))\n",
    "        st = np.zeros((self.Npaths, self.Nsteps))\n",
    "        prices = np.zeros((self.Npaths, self.Nsteps))\n",
    "        # Same as before but now a whole matrix with N paths\n",
    "        ft[:,0] = self.F0\n",
    "        st[:,0] = self.sigma0\n",
    "        prices[:,0] = self.S0\n",
    "        for i in range(self.Nsteps-1):\n",
    "            ft[:,i+1], st[:,i+1] = self.propagate(ft[:,i], st[:,i])\n",
    "            prices[:,i+1] = ft[:,i+1]*np.exp(-self.rf*(self.T - (i+1)*self.dT))\n",
    "        return prices \n",
    "        \n",
    "    def plot_many(self, logreturns=True):\n",
    "        \"\"\"Make a plot of the overall distribution and also plot the resulting PDF of final \n",
    "           prices.\"\"\"\n",
    "        prices = self.simulate_many()\n",
    "        if logreturns==True:\n",
    "            P = np.diff(np.log(prices))\n",
    "            timearr = np.arange(self.dT,self.T,self.dT)\n",
    "        else: \n",
    "            P = prices\n",
    "            timearr = np.arange(0,self.T,self.dT)\n",
    "        fig, (a0, a1) = plt.subplots(1, 2, gridspec_kw={'width_ratios': [4, 1]},figsize=(8,1.7))\n",
    "        for i in range(self.Npaths-1):\n",
    "            a0.plot(timearr,P[i,:],color='black',lw=0.2)\n",
    "        a0.plot(timearr,P[i,:],color='green',lw=1.0)\n",
    "        a0.set_xlabel('Time [yr]')\n",
    "        a0.set_ylabel('Stock price [USD]')\n",
    "        \n",
    "        a1.hist(P[:,-1],bins=100, color='gray', density=True)\n",
    "        mean,std=norm.fit(P[:,-1])\n",
    "        x = np.linspace(-0.015, 0.015, 100)\n",
    "        y = norm.pdf(x, mean, std)\n",
    "        a1.plot(x, y)\n",
    "        a1.set_xticks([])\n",
    "        a1.set_yticks([])\n",
    "        a0.set_rasterized(True)\n",
    "        fig.tight_layout(pad=-0.3)\n",
    "        plt.savefig('manyMCtracks_PDF.png', dpi=400,bbox_inches='tight')\n",
    "        plt.show()\n",
    "        \n",
    "    def option_price(self, optiontype='call'):\n",
    "        \"\"\"Equate option price by taking option value for each path, averaging and discounting back \n",
    "           to present day value using risk free rate. \"\"\"\n",
    "        # Get prices \n",
    "        prices = self.simulate_many()\n",
    "        # Get final prices\n",
    "        finalprices = prices[:,-1]\n",
    "        # calculate option values\n",
    "        if optiontype == 'call':\n",
    "            optionvalues = np.max(np.vstack((np.zeros(len(finalprices)),finalprices-self.K)),axis=0)\n",
    "        elif optiontype == 'put':\n",
    "            optionvalues = np.max(np.vstack((np.zeros(len(finalprices)),self.K-finalprices)),axis=0)\n",
    "        optionvalue = np.mean(optionvalues)\n",
    "        # Discount to present value\n",
    "        optionvalue = np.exp(-self.rf*self.T) * optionvalue\n",
    "        return optionvalue\n",
    "\n",
    "MC = MonteCarlo(4000,5000,T=10,F=3500, sigma=0.2, alpha=0.5, beta=1, rho=-0.7,K=3300, rf=0)\n",
    "MC.plot_single()\n",
    "MC.option_price()"
   ]
  },
  {
   "cell_type": "code",
   "execution_count": null,
   "metadata": {},
   "outputs": [],
   "source": []
  },
  {
   "cell_type": "code",
   "execution_count": null,
   "metadata": {},
   "outputs": [],
   "source": []
  }
 ],
 "metadata": {
  "kernelspec": {
   "display_name": "Python 3",
   "language": "python",
   "name": "python3"
  },
  "language_info": {
   "codemirror_mode": {
    "name": "ipython",
    "version": 3
   },
   "file_extension": ".py",
   "mimetype": "text/x-python",
   "name": "python",
   "nbconvert_exporter": "python",
   "pygments_lexer": "ipython3",
   "version": "3.8.3"
  }
 },
 "nbformat": 4,
 "nbformat_minor": 4
}
